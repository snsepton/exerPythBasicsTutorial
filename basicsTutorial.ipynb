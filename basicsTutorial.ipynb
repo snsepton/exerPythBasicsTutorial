{
 "cells": [
  {
   "cell_type": "markdown",
   "source": [
    "# Python Basics Tutorial\n",
    "\n",
    "Go through the Lean the Basics section at https://www.learnpython.org/\n",
    "Run each code block in a separate cell in this Jupyter Notebook. An easy shortcut is to hit Shift-Enter after entering your code to run the code in the cell and create a new cell below."
   ],
   "metadata": {}
  },
  {
   "cell_type": "code",
   "execution_count": null,
   "source": [
    "# Your code starts here."
   ],
   "outputs": [],
   "metadata": {}
  },
  {
   "cell_type": "code",
   "execution_count": 2,
   "source": [
    "print(\"this line will be printed\")"
   ],
   "outputs": [
    {
     "output_type": "stream",
     "name": "stdout",
     "text": [
      "this line will be printed\n"
     ]
    }
   ],
   "metadata": {}
  },
  {
   "cell_type": "code",
   "execution_count": 4,
   "source": [
    "x = 1\r\n",
    "if x == 1:\r\n",
    "    print(\"x is 1.\")"
   ],
   "outputs": [
    {
     "output_type": "stream",
     "name": "stdout",
     "text": [
      "x is 1.\n"
     ]
    }
   ],
   "metadata": {}
  },
  {
   "cell_type": "code",
   "execution_count": 8,
   "source": [
    "print(\"Hello, World!\")"
   ],
   "outputs": [
    {
     "output_type": "stream",
     "name": "stdout",
     "text": [
      "Hello, World!\n"
     ]
    }
   ],
   "metadata": {}
  },
  {
   "cell_type": "code",
   "execution_count": 10,
   "source": [
    "myint = 7\r\n",
    "print(myint)"
   ],
   "outputs": [
    {
     "output_type": "stream",
     "name": "stdout",
     "text": [
      "7\n"
     ]
    }
   ],
   "metadata": {}
  },
  {
   "cell_type": "code",
   "execution_count": 13,
   "source": [
    "myfloat = 7.0\r\n",
    "print(myfloat)\r\n",
    "myfloat = float(7)\r\n",
    "print(myfloat)"
   ],
   "outputs": [
    {
     "output_type": "stream",
     "name": "stdout",
     "text": [
      "7.0\n",
      "7.0\n"
     ]
    }
   ],
   "metadata": {}
  },
  {
   "cell_type": "code",
   "execution_count": 15,
   "source": [
    "mystring = 'hello'\r\n",
    "print(mystring)\r\n",
    "mystring = \"hello\"\r\n",
    "print(mystring)"
   ],
   "outputs": [
    {
     "output_type": "stream",
     "name": "stdout",
     "text": [
      "hello\n",
      "hello\n"
     ]
    }
   ],
   "metadata": {}
  },
  {
   "cell_type": "code",
   "execution_count": 17,
   "source": [
    "mystring = \"Don't worry about apostrophes\"\r\n",
    "print(mystring)"
   ],
   "outputs": [
    {
     "output_type": "stream",
     "name": "stdout",
     "text": [
      "Don't worry about apostrophes\n"
     ]
    }
   ],
   "metadata": {}
  },
  {
   "cell_type": "code",
   "execution_count": 19,
   "source": [
    "one =1\r\n",
    "two =2\r\n",
    "three = one + two\r\n",
    "print(three)\r\n",
    "\r\n",
    "hello = \"hello\"\r\n",
    "world = \"world\"\r\n",
    "helloworld = hello + \" \" + world\r\n",
    "print(helloworld)\r\n"
   ],
   "outputs": [
    {
     "output_type": "stream",
     "name": "stdout",
     "text": [
      "3\n",
      "hello world\n"
     ]
    }
   ],
   "metadata": {}
  },
  {
   "cell_type": "code",
   "execution_count": 21,
   "source": [
    "a, b = 3, 4\r\n",
    "print(a,b)"
   ],
   "outputs": [
    {
     "output_type": "stream",
     "name": "stdout",
     "text": [
      "3 4\n"
     ]
    }
   ],
   "metadata": {}
  },
  {
   "cell_type": "code",
   "execution_count": 23,
   "source": [
    "mystring = \"hello\"\r\n",
    "myfloat = 10.0\r\n",
    "myint = 20\r\n",
    "\r\n",
    "if mystring == \"hello\":\r\n",
    "    print(\"String: %s\" % mystring)\r\n",
    "if isinstance(myfloat, float) and myfloat == 10.0:\r\n",
    "    print(\"Float: %f\" % myfloat)\r\n",
    "if isinstance(myint, int) and myint == 20:\r\n",
    "    print(\"Integer: %d\" % myint)\r\n",
    "\r\n"
   ],
   "outputs": [
    {
     "output_type": "stream",
     "name": "stdout",
     "text": [
      "String: hello\n",
      "Float: 10.000000\n",
      "Integer: 20\n"
     ]
    }
   ],
   "metadata": {}
  },
  {
   "cell_type": "code",
   "execution_count": 25,
   "source": [
    "mylist = []\r\n",
    "mylist.append(1)\r\n",
    "mylist.append(2)\r\n",
    "mylist.append(3)\r\n",
    "print(mylist[0])\r\n",
    "print(mylist[1])\r\n",
    "print(mylist[2])\r\n",
    "\r\n",
    "for x in mylist:\r\n",
    "    print(x)"
   ],
   "outputs": [
    {
     "output_type": "stream",
     "name": "stdout",
     "text": [
      "1\n",
      "2\n",
      "3\n",
      "1\n",
      "2\n",
      "3\n"
     ]
    }
   ],
   "metadata": {}
  },
  {
   "cell_type": "code",
   "execution_count": null,
   "source": [
    "mylist = [1,2,3]\r\n",
    "print(mylist[10])"
   ],
   "outputs": [],
   "metadata": {}
  },
  {
   "cell_type": "code",
   "execution_count": 28,
   "source": [
    "numbers = [1,2,3]\r\n",
    "strings = ['hello', 'world']\r\n",
    "names = [\"John\", \"Eric\", \"Jessica\"]\r\n",
    "\r\n",
    "# write your code here\r\n",
    "second_name = 'Eric'\r\n",
    "\r\n",
    "\r\n",
    "# this code should write out the filled arrays and the second name in the names list (Eric).\r\n",
    "print(numbers)\r\n",
    "print(strings)\r\n",
    "print(\"The second name on the names list is %s\" % second_name)"
   ],
   "outputs": [
    {
     "output_type": "stream",
     "name": "stdout",
     "text": [
      "[1, 2, 3]\n",
      "['hello', 'world']\n",
      "The second name on the names list is Eric\n"
     ]
    }
   ],
   "metadata": {}
  },
  {
   "cell_type": "code",
   "execution_count": 29,
   "source": [
    "number = 1 + 2 * 3 / 4.0\r\n",
    "print(number)"
   ],
   "outputs": [
    {
     "output_type": "stream",
     "name": "stdout",
     "text": [
      "2.5\n"
     ]
    }
   ],
   "metadata": {}
  },
  {
   "cell_type": "code",
   "execution_count": 30,
   "source": [
    "remainder = 11 % 3\r\n",
    "print(remainder)"
   ],
   "outputs": [
    {
     "output_type": "stream",
     "name": "stdout",
     "text": [
      "2\n"
     ]
    }
   ],
   "metadata": {}
  },
  {
   "cell_type": "code",
   "execution_count": 31,
   "source": [
    "squared = 7 ** 2\r\n",
    "cubed = 2 ** 3\r\n",
    "print(squared)\r\n",
    "print(cubed)"
   ],
   "outputs": [
    {
     "output_type": "stream",
     "name": "stdout",
     "text": [
      "49\n",
      "8\n"
     ]
    }
   ],
   "metadata": {}
  },
  {
   "cell_type": "code",
   "execution_count": 32,
   "source": [
    "helloworld = \"hello\" + \" \" + \"world\"\r\n",
    "print(helloworld)"
   ],
   "outputs": [
    {
     "output_type": "stream",
     "name": "stdout",
     "text": [
      "hello world\n"
     ]
    }
   ],
   "metadata": {}
  },
  {
   "cell_type": "code",
   "execution_count": 33,
   "source": [
    "lotsofhellos = \"hello\" * 10\r\n",
    "print(lotsofhellos)"
   ],
   "outputs": [
    {
     "output_type": "stream",
     "name": "stdout",
     "text": [
      "hellohellohellohellohellohellohellohellohellohello\n"
     ]
    }
   ],
   "metadata": {}
  },
  {
   "cell_type": "code",
   "execution_count": 34,
   "source": [
    "even_numbers = [2,4,6,8]\r\n",
    "odd_numbers = [1,3,5,7]\r\n",
    "all_numbers = odd_numbers + even_numbers\r\n",
    "print(all_numbers)"
   ],
   "outputs": [
    {
     "output_type": "stream",
     "name": "stdout",
     "text": [
      "[1, 3, 5, 7, 2, 4, 6, 8]\n"
     ]
    }
   ],
   "metadata": {}
  },
  {
   "cell_type": "code",
   "execution_count": 35,
   "source": [
    "print([1,2,3] * 3)"
   ],
   "outputs": [
    {
     "output_type": "stream",
     "name": "stdout",
     "text": [
      "[1, 2, 3, 1, 2, 3, 1, 2, 3]\n"
     ]
    }
   ],
   "metadata": {}
  },
  {
   "cell_type": "code",
   "execution_count": 36,
   "source": [
    "x = object()\r\n",
    "y = object()\r\n",
    "\r\n",
    "x_list = [x] * 10\r\n",
    "y_list = [y] * 10\r\n",
    "big_list = x_list + y_list\r\n",
    "\r\n",
    "print(\"x_list contains %d objects\" % len(x_list))\r\n",
    "print(\"y_list contains %d objects\" % len(y_list))\r\n",
    "print(\"big_list contains %d objects\" % len(big_list))\r\n",
    "\r\n",
    "if x_list.count(x) == 10 and y_list.count(y) == 10:\r\n",
    "    print(\"Almost there...\")\r\n",
    "if big_list.count(x) == 10 and big_list.count(y) == 10:\r\n",
    "    print(\"Great!\")"
   ],
   "outputs": [
    {
     "output_type": "stream",
     "name": "stdout",
     "text": [
      "x_list contains 10 objects\n",
      "y_list contains 10 objects\n",
      "big_list contains 20 objects\n",
      "Almost there...\n",
      "Great!\n"
     ]
    }
   ],
   "metadata": {}
  },
  {
   "cell_type": "code",
   "execution_count": 37,
   "source": [
    "name = \"John\"\r\n",
    "print(\"Hello, %s!\" % name)"
   ],
   "outputs": [
    {
     "output_type": "stream",
     "name": "stdout",
     "text": [
      "Hello, John!\n"
     ]
    }
   ],
   "metadata": {}
  },
  {
   "cell_type": "code",
   "execution_count": 38,
   "source": [
    "name = \"John\"\r\n",
    "age = 23\r\n",
    "print(\"%s is %d years old.\" % (name, age))"
   ],
   "outputs": [
    {
     "output_type": "stream",
     "name": "stdout",
     "text": [
      "John is 23 years old.\n"
     ]
    }
   ],
   "metadata": {}
  },
  {
   "cell_type": "code",
   "execution_count": 39,
   "source": [
    "mylist = [1,2,3]\r\n",
    "print(\"A list: %s\" % mylist)"
   ],
   "outputs": [
    {
     "output_type": "stream",
     "name": "stdout",
     "text": [
      "A list: [1, 2, 3]\n"
     ]
    }
   ],
   "metadata": {}
  },
  {
   "cell_type": "code",
   "execution_count": 42,
   "source": [
    "data = (\"John\", \"Doe\", 53.44)\r\n",
    "format_string = \"Hello %s %s. Your current balance is $%s.\"\r\n",
    "\r\n",
    "print(format_string % data)"
   ],
   "outputs": [
    {
     "output_type": "stream",
     "name": "stdout",
     "text": [
      "Hello John Doe. Your current balance is $53.44.\n"
     ]
    }
   ],
   "metadata": {}
  },
  {
   "cell_type": "code",
   "execution_count": 43,
   "source": [
    "astring = \"Hello world!\"\r\n",
    "astring2 = 'Hello world!'"
   ],
   "outputs": [],
   "metadata": {}
  },
  {
   "cell_type": "code",
   "execution_count": 45,
   "source": [
    "astring = \"Hello world!\"\r\n",
    "print(\"single quotes are ' '\")\r\n",
    "\r\n",
    "print(len(astring))"
   ],
   "outputs": [
    {
     "output_type": "stream",
     "name": "stdout",
     "text": [
      "single quotes are ' '\n",
      "12\n"
     ]
    }
   ],
   "metadata": {}
  },
  {
   "cell_type": "code",
   "execution_count": 46,
   "source": [
    "astring = \"Hello world!\"\r\n",
    "print(astring.index(\"o\"))"
   ],
   "outputs": [
    {
     "output_type": "stream",
     "name": "stdout",
     "text": [
      "4\n"
     ]
    }
   ],
   "metadata": {}
  },
  {
   "cell_type": "code",
   "execution_count": 47,
   "source": [
    "astring = \"Hello world!\"\r\n",
    "print(astring.count(\"l\"))"
   ],
   "outputs": [
    {
     "output_type": "stream",
     "name": "stdout",
     "text": [
      "3\n"
     ]
    }
   ],
   "metadata": {}
  },
  {
   "cell_type": "code",
   "execution_count": 48,
   "source": [
    "astring = \"Hello world!\"\r\n",
    "print(astring[3:7])"
   ],
   "outputs": [
    {
     "output_type": "stream",
     "name": "stdout",
     "text": [
      "lo w\n"
     ]
    }
   ],
   "metadata": {}
  },
  {
   "cell_type": "code",
   "execution_count": 50,
   "source": [
    "astring = \"Hello world!\"\r\n",
    "print(astring[3:7:2])"
   ],
   "outputs": [
    {
     "output_type": "stream",
     "name": "stdout",
     "text": [
      "l \n"
     ]
    }
   ],
   "metadata": {}
  },
  {
   "cell_type": "code",
   "execution_count": 51,
   "source": [
    "astring = \"Hello world!\"\r\n",
    "print(astring[3:7])\r\n",
    "print(astring[3:7:1])"
   ],
   "outputs": [
    {
     "output_type": "stream",
     "name": "stdout",
     "text": [
      "lo w\n",
      "lo w\n"
     ]
    }
   ],
   "metadata": {}
  },
  {
   "cell_type": "code",
   "execution_count": 52,
   "source": [
    "astring = \"Hello world!\"\r\n",
    "print(astring[::-1])"
   ],
   "outputs": [
    {
     "output_type": "stream",
     "name": "stdout",
     "text": [
      "!dlrow olleH\n"
     ]
    }
   ],
   "metadata": {}
  },
  {
   "cell_type": "code",
   "execution_count": 53,
   "source": [
    "astring = \"Hello world!\"\r\n",
    "print(astring.upper())\r\n",
    "print(astring.lower())"
   ],
   "outputs": [
    {
     "output_type": "stream",
     "name": "stdout",
     "text": [
      "HELLO WORLD!\n",
      "hello world!\n"
     ]
    }
   ],
   "metadata": {}
  },
  {
   "cell_type": "code",
   "execution_count": 54,
   "source": [
    "astring = \"Hello world!\"\r\n",
    "print(astring.startswith(\"Hello\"))\r\n",
    "print(astring.endswith(\"asdfasdfasdf\"))"
   ],
   "outputs": [
    {
     "output_type": "stream",
     "name": "stdout",
     "text": [
      "True\n",
      "False\n"
     ]
    }
   ],
   "metadata": {}
  },
  {
   "cell_type": "code",
   "execution_count": 55,
   "source": [
    "astring = \"Hello world!\"\r\n",
    "afewwords = astring.split(\" \")"
   ],
   "outputs": [],
   "metadata": {}
  },
  {
   "cell_type": "code",
   "execution_count": 57,
   "source": [
    "s = \"this is interesting!\"\r\n",
    "# Length should be 20\r\n",
    "print(\"Length of s = %d\" % len(s))\r\n",
    "\r\n",
    "# First occurrence of \"a\" should be at index 8\r\n",
    "print(\"The first occurrence of the letter s = %d\" % s.index(\"s\"))\r\n",
    "\r\n",
    "# Number of a's should be 2\r\n",
    "print(\"a occurs %d times\" % s.count(\"a\"))\r\n",
    "\r\n",
    "# Slicing the string into bits\r\n",
    "print(\"The first five characters are '%s'\" % s[:5]) # Start to 5\r\n",
    "print(\"The next five characters are '%s'\" % s[5:10]) # 5 to 10\r\n",
    "print(\"The thirteenth character is '%s'\" % s[12]) # Just number 12\r\n",
    "print(\"The characters with odd index are '%s'\" %s[1::2]) #(0-based indexing)\r\n",
    "print(\"The last five characters are '%s'\" % s[-5:]) # 5th-from-last to end\r\n",
    "\r\n",
    "# Convert everything to uppercase\r\n",
    "print(\"String in uppercase: %s\" % s.upper())\r\n",
    "\r\n",
    "# Convert everything to lowercase\r\n",
    "print(\"String in lowercase: %s\" % s.lower())\r\n",
    "\r\n",
    "# Check how a string starts\r\n",
    "if s.startswith(\"Str\"):\r\n",
    "    print(\"String starts with 'Str'. Good!\")\r\n",
    "\r\n",
    "# Check how a string ends\r\n",
    "if s.endswith(\"ome!\"):\r\n",
    "    print(\"String ends with 'ome!'. Good!\")\r\n",
    "\r\n",
    "# Split the string into three separate strings,\r\n",
    "# each containing only a word\r\n",
    "print(\"Split the words of the string: %s\" % s.split(\" \"))"
   ],
   "outputs": [
    {
     "output_type": "stream",
     "name": "stdout",
     "text": [
      "Length of s = 20\n",
      "The first occurrence of the letter s = 3\n",
      "a occurs 0 times\n",
      "The first five characters are 'this '\n",
      "The next five characters are 'is in'\n",
      "The thirteenth character is 'r'\n",
      "The characters with odd index are 'hsi neetn!'\n",
      "The last five characters are 'ting!'\n",
      "String in uppercase: THIS IS INTERESTING!\n",
      "String in lowercase: this is interesting!\n",
      "Split the words of the string: ['this', 'is', 'interesting!']\n"
     ]
    }
   ],
   "metadata": {}
  },
  {
   "cell_type": "code",
   "execution_count": 59,
   "source": [
    "x = 2\r\n",
    "print(x == 2) \r\n",
    "print(x == 3) \r\n",
    "print(x < 3) "
   ],
   "outputs": [
    {
     "output_type": "stream",
     "name": "stdout",
     "text": [
      "True\n",
      "False\n",
      "True\n"
     ]
    }
   ],
   "metadata": {}
  },
  {
   "cell_type": "code",
   "execution_count": 61,
   "source": [
    "name = \"John\"\r\n",
    "age = 23\r\n",
    "if name == \"John\" and age == 23:\r\n",
    "    print(\"Your name is John, and you are also 23 years old.\")\r\n",
    "\r\n",
    "if name == \"John\" or name == \"Rick\":\r\n",
    "    print(\"Your name is either John or Rick.\")"
   ],
   "outputs": [
    {
     "output_type": "stream",
     "name": "stdout",
     "text": [
      "Your name is John, and you are also 23 years old.\n",
      "Your name is either John or Rick.\n"
     ]
    }
   ],
   "metadata": {}
  },
  {
   "cell_type": "code",
   "execution_count": 62,
   "source": [
    "name = \"John\"\r\n",
    "if name in [\"John\", \"Rick\"]:\r\n",
    "    print(\"Your name is either John or Rick.\")"
   ],
   "outputs": [
    {
     "output_type": "stream",
     "name": "stdout",
     "text": [
      "Your name is either John or Rick.\n"
     ]
    }
   ],
   "metadata": {}
  },
  {
   "cell_type": "code",
   "execution_count": 63,
   "source": [
    "statement = False\r\n",
    "another_statement = True\r\n",
    "if statement is True:\r\n",
    "    # do something\r\n",
    "    pass\r\n",
    "elif another_statement is True: # else if\r\n",
    "    # do something else\r\n",
    "    pass\r\n",
    "else:\r\n",
    "    # do another thing\r\n",
    "    pass"
   ],
   "outputs": [],
   "metadata": {}
  },
  {
   "cell_type": "code",
   "execution_count": 64,
   "source": [
    "x = 2\r\n",
    "if x == 2:\r\n",
    "    print(\"x equals two!\")\r\n",
    "else:\r\n",
    "    print(\"x does not equal to two.\")"
   ],
   "outputs": [
    {
     "output_type": "stream",
     "name": "stdout",
     "text": [
      "x equals two!\n"
     ]
    }
   ],
   "metadata": {}
  },
  {
   "cell_type": "code",
   "execution_count": 65,
   "source": [
    "x = [1,2,3]\r\n",
    "y = [1,2,3]\r\n",
    "print(x == y) \r\n",
    "print(x is y) "
   ],
   "outputs": [
    {
     "output_type": "stream",
     "name": "stdout",
     "text": [
      "True\n",
      "False\n"
     ]
    }
   ],
   "metadata": {}
  },
  {
   "cell_type": "code",
   "execution_count": 66,
   "source": [
    "print(not False)\r\n",
    "print((not False) == (False))"
   ],
   "outputs": [
    {
     "output_type": "stream",
     "name": "stdout",
     "text": [
      "True\n",
      "False\n"
     ]
    }
   ],
   "metadata": {}
  },
  {
   "cell_type": "code",
   "execution_count": 67,
   "source": [
    "number = 16\r\n",
    "second_number = 0\r\n",
    "first_array = [1,2,3]\r\n",
    "second_array = [1,2]\r\n",
    "\r\n",
    "if number > 15:\r\n",
    "    print(\"1\")\r\n",
    "\r\n",
    "if first_array:\r\n",
    "    print(\"2\")\r\n",
    "\r\n",
    "if len(second_array) == 2:\r\n",
    "    print(\"3\")\r\n",
    "\r\n",
    "if len(first_array) + len(second_array) == 5:\r\n",
    "    print(\"4\")\r\n",
    "\r\n",
    "if first_array and first_array[0] == 1:\r\n",
    "    print(\"5\")\r\n",
    "\r\n",
    "if not second_number:\r\n",
    "    print(\"6\")"
   ],
   "outputs": [
    {
     "output_type": "stream",
     "name": "stdout",
     "text": [
      "1\n",
      "2\n",
      "3\n",
      "4\n",
      "5\n",
      "6\n"
     ]
    }
   ],
   "metadata": {}
  },
  {
   "cell_type": "code",
   "execution_count": 68,
   "source": [
    "primes = [2, 3, 5, 7]\r\n",
    "for prime in primes:\r\n",
    "    print(prime)"
   ],
   "outputs": [
    {
     "output_type": "stream",
     "name": "stdout",
     "text": [
      "2\n",
      "3\n",
      "5\n",
      "7\n"
     ]
    }
   ],
   "metadata": {}
  },
  {
   "cell_type": "code",
   "execution_count": 69,
   "source": [
    "for x in range(5):\r\n",
    "    print(x)\r\n",
    "\r\n",
    "for x in range(3, 6):\r\n",
    "    print(x)\r\n",
    "\r\n",
    "for x in range(3, 8, 2):\r\n",
    "    print(x)"
   ],
   "outputs": [
    {
     "output_type": "stream",
     "name": "stdout",
     "text": [
      "0\n",
      "1\n",
      "2\n",
      "3\n",
      "4\n",
      "3\n",
      "4\n",
      "5\n",
      "3\n",
      "5\n",
      "7\n"
     ]
    }
   ],
   "metadata": {}
  },
  {
   "cell_type": "code",
   "execution_count": 70,
   "source": [
    "count = 0\r\n",
    "while count < 5:\r\n",
    "    print(count)\r\n",
    "    count += 1"
   ],
   "outputs": [
    {
     "output_type": "stream",
     "name": "stdout",
     "text": [
      "0\n",
      "1\n",
      "2\n",
      "3\n",
      "4\n"
     ]
    }
   ],
   "metadata": {}
  },
  {
   "cell_type": "code",
   "execution_count": 71,
   "source": [
    "count = 0\r\n",
    "while True:\r\n",
    "    print(count)\r\n",
    "    count += 1\r\n",
    "    if count >= 5:\r\n",
    "        break\r\n",
    "\r\n",
    "for x in range(10):\r\n",
    "    \r\n",
    "    if x % 2 == 0:\r\n",
    "        continue\r\n",
    "    print(x)"
   ],
   "outputs": [
    {
     "output_type": "stream",
     "name": "stdout",
     "text": [
      "0\n",
      "1\n",
      "2\n",
      "3\n",
      "4\n",
      "1\n",
      "3\n",
      "5\n",
      "7\n",
      "9\n"
     ]
    }
   ],
   "metadata": {}
  },
  {
   "cell_type": "code",
   "execution_count": 72,
   "source": [
    "ount=0\r\n",
    "while(count<5):\r\n",
    "    print(count)\r\n",
    "    count +=1\r\n",
    "else:\r\n",
    "    print(\"count value reached %d\" %(count))\r\n",
    "\r\n",
    "# Prints out 1,2,3,4\r\n",
    "for i in range(1, 10):\r\n",
    "    if(i%5==0):\r\n",
    "        break\r\n",
    "    print(i)\r\n",
    "else:\r\n",
    "    print(\"this is not printed because for loop is terminated because of break but not due to fail in condition\")"
   ],
   "outputs": [
    {
     "output_type": "stream",
     "name": "stdout",
     "text": [
      "count value reached 5\n",
      "1\n",
      "2\n",
      "3\n",
      "4\n"
     ]
    }
   ],
   "metadata": {}
  },
  {
   "cell_type": "code",
   "execution_count": 73,
   "source": [
    "numbers = [\r\n",
    "    951, 402, 984, 651, 360, 69, 408, 319, 601, 485, 980, 507, 725, 547, 544,\r\n",
    "    615, 83, 165, 141, 501, 263, 617, 865, 575, 219, 390, 984, 592, 236, 105, 942, 941,\r\n",
    "    386, 462, 47, 418, 907, 344, 236, 375, 823, 566, 597, 978, 328, 615, 953, 345,\r\n",
    "    399, 162, 758, 219, 918, 237, 412, 566, 826, 248, 866, 950, 626, 949, 687, 217,\r\n",
    "    815, 67, 104, 58, 512, 24, 892, 894, 767, 553, 81, 379, 843, 831, 445, 742, 717,\r\n",
    "    958, 609, 842, 451, 688, 753, 854, 685, 93, 857, 440, 380, 126, 721, 328, 753, 470,\r\n",
    "    743, 527\r\n",
    "]\r\n",
    "\r\n",
    "# your code goes here\r\n",
    "for number in numbers:\r\n",
    "    if number == 237:\r\n",
    "        break\r\n",
    "    \r\n",
    "    if number % 2 == 1:\r\n",
    "        continue"
   ],
   "outputs": [],
   "metadata": {}
  },
  {
   "cell_type": "code",
   "execution_count": 74,
   "source": [
    "def my_function():\r\n",
    "    print(\"Hello From My Function!\")"
   ],
   "outputs": [],
   "metadata": {}
  },
  {
   "cell_type": "code",
   "execution_count": 75,
   "source": [
    "def my_function_with_args(username, greeting):\r\n",
    "    print(\"Hello, %s , From My Function!, I wish you %s\"%(username, greeting))"
   ],
   "outputs": [],
   "metadata": {}
  },
  {
   "cell_type": "code",
   "execution_count": 76,
   "source": [
    "def sum_two_numbers(a, b):\r\n",
    "    return a + b"
   ],
   "outputs": [],
   "metadata": {}
  },
  {
   "cell_type": "code",
   "execution_count": 79,
   "source": [
    "def my_function():\r\n",
    "    print(\"Hello From My Function!\")\r\n",
    "\r\n",
    "def my_function_with_args(username, greeting):\r\n",
    "    print(\"Hello, %s, From My Function!, I wish you %s\"%(username, greeting))\r\n",
    "\r\n",
    "def sum_two_numbers(a, b):\r\n",
    "    return a + b\r\n",
    "\r\n",
    "my_function()\r\n",
    "\r\n",
    "my_function_with_args(\"John Doe\", \"a great year!\")\r\n",
    "\r\n",
    "x = sum_two_numbers(1,2)"
   ],
   "outputs": [
    {
     "output_type": "stream",
     "name": "stdout",
     "text": [
      "Hello From My Function!\n",
      "Hello, John Doe, From My Function!, I wish you a great year!\n"
     ]
    }
   ],
   "metadata": {}
  },
  {
   "cell_type": "code",
   "execution_count": 80,
   "source": [
    "def list_benefits():\r\n",
    "    return \"More organized code\", \"More readable code\", \"Easier code reuse\", \"Allowing programmers to share and connect code together\"\r\n",
    "\r\n",
    "# Modify this function to concatenate to each benefit - \" is a benefit of functions!\"\r\n",
    "def build_sentence(benefit):\r\n",
    "    return \"%s is a benefit of functions!\" % benefit \r\n",
    "\r\n",
    "def name_the_benefits_of_functions():\r\n",
    "    list_of_benefits = list_benefits()\r\n",
    "    for benefit in list_of_benefits:\r\n",
    "        print(build_sentence(benefit))\r\n",
    "\r\n",
    "name_the_benefits_of_functions()"
   ],
   "outputs": [
    {
     "output_type": "stream",
     "name": "stdout",
     "text": [
      "More organized code is a benefit of functions!\n",
      "More readable code is a benefit of functions!\n",
      "Easier code reuse is a benefit of functions!\n",
      "Allowing programmers to share and connect code together is a benefit of functions!\n"
     ]
    }
   ],
   "metadata": {}
  },
  {
   "cell_type": "code",
   "execution_count": 81,
   "source": [
    "class MyClass:\r\n",
    "    variable = \"blah\"\r\n",
    "\r\n",
    "    def function(self):\r\n",
    "        print(\"This is a message inside the class.\")"
   ],
   "outputs": [],
   "metadata": {}
  },
  {
   "cell_type": "code",
   "execution_count": 82,
   "source": [
    "class MyClass:\r\n",
    "    variable = \"blah\"\r\n",
    "\r\n",
    "    def function(self):\r\n",
    "        print(\"This is a message inside the class.\")\r\n",
    "\r\n",
    "myobjectx = MyClass()"
   ],
   "outputs": [],
   "metadata": {}
  },
  {
   "cell_type": "code",
   "execution_count": 83,
   "source": [
    "class MyClass:\r\n",
    "    variable = \"blah\"\r\n",
    "\r\n",
    "    def function(self):\r\n",
    "        print(\"This is a message inside the class.\")\r\n",
    "\r\n",
    "myobjectx = MyClass()\r\n",
    "\r\n",
    "myobjectx.variable"
   ],
   "outputs": [
    {
     "output_type": "execute_result",
     "data": {
      "text/plain": [
       "'blah'"
      ]
     },
     "metadata": {},
     "execution_count": 83
    }
   ],
   "metadata": {}
  },
  {
   "cell_type": "code",
   "execution_count": 84,
   "source": [
    "class MyClass:\r\n",
    "    variable = \"blah\"\r\n",
    "\r\n",
    "    def function(self):\r\n",
    "        print(\"This is a message inside the class.\")\r\n",
    "\r\n",
    "myobjectx = MyClass()\r\n",
    "\r\n",
    "print(myobjectx.variable)"
   ],
   "outputs": [
    {
     "output_type": "stream",
     "name": "stdout",
     "text": [
      "blah\n"
     ]
    }
   ],
   "metadata": {}
  },
  {
   "cell_type": "code",
   "execution_count": 85,
   "source": [
    "class MyClass:\r\n",
    "    variable = \"blah\"\r\n",
    "\r\n",
    "    def function(self):\r\n",
    "        print(\"This is a message inside the class.\")\r\n",
    "\r\n",
    "myobjectx = MyClass()\r\n",
    "myobjecty = MyClass()\r\n",
    "\r\n",
    "myobjecty.variable = \"yackity\"\r\n",
    "\r\n",
    "print(myobjectx.variable)\r\n",
    "print(myobjecty.variable)"
   ],
   "outputs": [
    {
     "output_type": "stream",
     "name": "stdout",
     "text": [
      "blah\n",
      "yackity\n"
     ]
    }
   ],
   "metadata": {}
  },
  {
   "cell_type": "code",
   "execution_count": 86,
   "source": [
    "class MyClass:\r\n",
    "    variable = \"blah\"\r\n",
    "\r\n",
    "    def function(self):\r\n",
    "        print(\"This is a message inside the class.\")\r\n",
    "\r\n",
    "myobjectx = MyClass()\r\n",
    "\r\n",
    "myobjectx.function()"
   ],
   "outputs": [
    {
     "output_type": "stream",
     "name": "stdout",
     "text": [
      "This is a message inside the class.\n"
     ]
    }
   ],
   "metadata": {}
  },
  {
   "cell_type": "code",
   "execution_count": 87,
   "source": [
    "class Vehicle:\r\n",
    "    name = \"Fer\"\r\n",
    "    kind = \"car\"\r\n",
    "    color = \"red\"\r\n",
    "    value = 60,000.00\r\n",
    "    def description(self):\r\n",
    "        desc_str = \"%s is a %s %s worth $%.2f.\" % (self.name, self.color, self.kind, self.value)\r\n",
    "        return desc_str\r\n",
    "        \r\n",
    "car1 = Vehicle()\r\n",
    "car1.name = \"Fer\"\r\n",
    "car1.color = \"red\"\r\n",
    "car1.kind = \"convertible\"\r\n",
    "car1.value = 60000.00\r\n",
    "\r\n",
    "car2 = Vehicle()\r\n",
    "car2.name = \"Jump\"\r\n",
    "car2.color = \"blue\"\r\n",
    "car2.kind = \"van\"\r\n",
    "car2.value = 10000.00\r\n",
    "\r\n",
    "\r\n",
    "print(car1.description())\r\n",
    "print(car2.description())"
   ],
   "outputs": [
    {
     "output_type": "stream",
     "name": "stdout",
     "text": [
      "Fer is a red convertible worth $60000.00.\n",
      "Jump is a blue van worth $10000.00.\n"
     ]
    }
   ],
   "metadata": {}
  },
  {
   "cell_type": "code",
   "execution_count": 88,
   "source": [
    "phonebook = {}\r\n",
    "phonebook[\"John\"] = 938477566\r\n",
    "phonebook[\"Jack\"] = 938377264\r\n",
    "phonebook[\"Jill\"] = 947662781\r\n",
    "print(phonebook)"
   ],
   "outputs": [
    {
     "output_type": "stream",
     "name": "stdout",
     "text": [
      "{'John': 938477566, 'Jack': 938377264, 'Jill': 947662781}\n"
     ]
    }
   ],
   "metadata": {}
  },
  {
   "cell_type": "code",
   "execution_count": 89,
   "source": [
    "phonebook = {\r\n",
    "    \"John\" : 938477566,\r\n",
    "    \"Jack\" : 938377264,\r\n",
    "    \"Jill\" : 947662781\r\n",
    "}\r\n",
    "print(phonebook)"
   ],
   "outputs": [
    {
     "output_type": "stream",
     "name": "stdout",
     "text": [
      "{'John': 938477566, 'Jack': 938377264, 'Jill': 947662781}\n"
     ]
    }
   ],
   "metadata": {}
  },
  {
   "cell_type": "code",
   "execution_count": 90,
   "source": [
    "phonebook = {\"John\" : 938477566,\"Jack\" : 938377264,\"Jill\" : 947662781}\r\n",
    "for name, number in phonebook.items():\r\n",
    "    print(\"Phone number of %s is %d\" % (name, number))"
   ],
   "outputs": [
    {
     "output_type": "stream",
     "name": "stdout",
     "text": [
      "Phone number of John is 938477566\n",
      "Phone number of Jack is 938377264\n",
      "Phone number of Jill is 947662781\n"
     ]
    }
   ],
   "metadata": {}
  },
  {
   "cell_type": "code",
   "execution_count": 91,
   "source": [
    "phonebook = {\r\n",
    "   \"John\" : 938477566,\r\n",
    "   \"Jack\" : 938377264,\r\n",
    "   \"Jill\" : 947662781\r\n",
    "}\r\n",
    "del phonebook[\"John\"]\r\n",
    "print(phonebook)"
   ],
   "outputs": [
    {
     "output_type": "stream",
     "name": "stdout",
     "text": [
      "{'Jack': 938377264, 'Jill': 947662781}\n"
     ]
    }
   ],
   "metadata": {}
  },
  {
   "cell_type": "code",
   "execution_count": 92,
   "source": [
    "phonebook = {\r\n",
    "   \"John\" : 938477566,\r\n",
    "   \"Jack\" : 938377264,\r\n",
    "   \"Jill\" : 947662781\r\n",
    "}\r\n",
    "phonebook.pop(\"John\")\r\n",
    "print(phonebook)"
   ],
   "outputs": [
    {
     "output_type": "stream",
     "name": "stdout",
     "text": [
      "{'Jack': 938377264, 'Jill': 947662781}\n"
     ]
    }
   ],
   "metadata": {}
  },
  {
   "cell_type": "code",
   "execution_count": 93,
   "source": [
    "phonebook = {  \r\n",
    "    \"John\" : 938477566,\r\n",
    "    \"Jack\" : 938377264,\r\n",
    "    \"Jill\" : 947662781,\r\n",
    "    \"Jake\" : 938273443\r\n",
    "}  \r\n",
    "# your code goes here\r\n",
    "\r\n",
    "del phonebook[\"Jill\"]\r\n",
    "# testing code\r\n",
    "if \"Jake\" in phonebook:  \r\n",
    "    print(\"Jake is listed in the phonebook.\")\r\n",
    "    \r\n",
    "if \"Jill\" not in phonebook:      \r\n",
    "    print(\"Jill is not listed in the phonebook.\")  "
   ],
   "outputs": [
    {
     "output_type": "stream",
     "name": "stdout",
     "text": [
      "Jake is listed in the phonebook.\n",
      "Jill is not listed in the phonebook.\n"
     ]
    }
   ],
   "metadata": {}
  },
  {
   "cell_type": "code",
   "execution_count": null,
   "source": [
    "mygame/\r\n",
    "mygame/game.py\r\n",
    "mygame/draw.py"
   ],
   "outputs": [],
   "metadata": {}
  },
  {
   "cell_type": "code",
   "execution_count": null,
   "source": [
    "import draw\r\n",
    "\r\n",
    "def play_game():\r\n",
    "    ...\r\n",
    "\r\n",
    "def main():\r\n",
    "    result = play_game()\r\n",
    "    draw.draw_game(result)\r\n",
    "\r\n",
    "# this means that if this script is executed, then \r\n",
    "# main() will be executed\r\n",
    "if __name__ == '__main__':\r\n",
    "    main()"
   ],
   "outputs": [],
   "metadata": {}
  },
  {
   "cell_type": "code",
   "execution_count": 95,
   "source": [
    "\r\n",
    "def draw_game():\r\n",
    "    ...\r\n",
    "\r\n",
    "def clear_screen(screen):\r\n",
    "    ..."
   ],
   "outputs": [],
   "metadata": {}
  },
  {
   "cell_type": "code",
   "execution_count": null,
   "source": [
    "from draw import draw_game\r\n",
    "\r\n",
    "def main():\r\n",
    "    result = play_game()\r\n",
    "    draw_game(result)"
   ],
   "outputs": [],
   "metadata": {}
  },
  {
   "cell_type": "code",
   "execution_count": null,
   "source": [
    "from draw import *\r\n",
    "\r\n",
    "def main():\r\n",
    "    result = play_game()\r\n",
    "    draw_game(result)"
   ],
   "outputs": [],
   "metadata": {}
  },
  {
   "cell_type": "code",
   "execution_count": null,
   "source": [
    "if visual_mode:\r\n",
    "    # in visual mode, we draw using graphics\r\n",
    "    import draw_visual as draw\r\n",
    "else:\r\n",
    "    # in textual mode, we print out text\r\n",
    "    import draw_textual as draw\r\n",
    "\r\n",
    "def main():\r\n",
    "    result = play_game()\r\n",
    "    # this can either be visual or textual depending on visual_mode\r\n",
    "    draw.draw_game(result)"
   ],
   "outputs": [],
   "metadata": {}
  },
  {
   "cell_type": "code",
   "execution_count": null,
   "source": [
    "def draw_game():\r\n",
    "    # when clearing the screen we can use the main screen object initialized in this module\r\n",
    "    clear_screen(main_screen)\r\n",
    "    ...\r\n",
    "\r\n",
    "def clear_screen(screen):\r\n",
    "    ...\r\n",
    "\r\n",
    "class Screen():\r\n",
    "    ...\r\n",
    "\r\n",
    "# initialize main_screen as a singleton\r\n",
    "main_screen = Screen()"
   ],
   "outputs": [],
   "metadata": {}
  },
  {
   "cell_type": "code",
   "execution_count": null,
   "source": [
    "PYTHONPATH=/foo python game.py"
   ],
   "outputs": [],
   "metadata": {}
  },
  {
   "cell_type": "code",
   "execution_count": null,
   "source": [
    "sys.path.append(\"/foo\")"
   ],
   "outputs": [],
   "metadata": {}
  },
  {
   "cell_type": "code",
   "execution_count": null,
   "source": [
    "import urllib\r\n",
    "\r\n",
    "# use it\r\n",
    "urllib.urlopen(...)\r\n",
    "\r\n",
    "#in python 3 it would be urlib.request.urlopen()"
   ],
   "outputs": [],
   "metadata": {}
  },
  {
   "cell_type": "code",
   "execution_count": null,
   "source": [
    "# it should be writtine: help(urllib)"
   ],
   "outputs": [],
   "metadata": {}
  },
  {
   "cell_type": "code",
   "execution_count": null,
   "source": [
    "#how to import modules has changed"
   ],
   "outputs": [],
   "metadata": {}
  },
  {
   "cell_type": "code",
   "execution_count": null,
   "source": [
    "from foo import bar"
   ],
   "outputs": [],
   "metadata": {}
  },
  {
   "cell_type": "code",
   "execution_count": 100,
   "source": [
    "import re\r\n",
    "\r\n",
    "# Your code goes here\r\n",
    "find_members = []\r\n",
    "for member in dir(re):\r\n",
    "    if \"find\" in member:\r\n",
    "        find_members.append(member)\r\n",
    "\r\n",
    "print(sorted(find_members))"
   ],
   "outputs": [
    {
     "output_type": "stream",
     "name": "stdout",
     "text": [
      "['findall', 'finditer']\n"
     ]
    }
   ],
   "metadata": {}
  },
  {
   "cell_type": "code",
   "execution_count": null,
   "source": [],
   "outputs": [],
   "metadata": {}
  }
 ],
 "metadata": {
  "language_info": {
   "codemirror_mode": {
    "name": "ipython",
    "version": 3
   },
   "file_extension": ".py",
   "mimetype": "text/x-python",
   "name": "python",
   "nbconvert_exporter": "python",
   "pygments_lexer": "ipython3",
   "version": "3.8.11"
  },
  "orig_nbformat": 2,
  "kernelspec": {
   "name": "python3",
   "display_name": "Python 3.8.11 64-bit ('Basics': conda)"
  },
  "interpreter": {
   "hash": "6dd4324f13c43c92a5b08f401368974c9447d793922464dc744ef73fab42da9b"
  }
 },
 "nbformat": 4,
 "nbformat_minor": 2
}